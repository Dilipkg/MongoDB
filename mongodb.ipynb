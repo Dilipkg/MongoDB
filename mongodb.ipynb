{
 "cells": [
  {
   "cell_type": "markdown",
   "id": "fb42d517-ccfb-4aba-afbe-adc59d6cf3ee",
   "metadata": {},
   "source": [
    "Q1.\n",
    "MongoDB is a document database with the scalability and flexibility that you want with the querying and indexing that you need.\n",
    "A non-relational database is a database that does not use the tabular schema of rows and columns found in most traditional database systems.\n",
    "MongoDB is horizontally scalable, which helps reduce the workload and scale your business with ease."
   ]
  },
  {
   "cell_type": "markdown",
   "id": "bc36d5e5-3f33-4b73-97e2-977e42cf5167",
   "metadata": {},
   "source": [
    "Q2.\n",
    "Schema-less Database: It is the great feature provided by the MongoDB. A Schema-less database means one collection can hold different types of documents in it. Or in other words, in the MongoDB database, a single collection can hold multiple documents and these documents may consist of the different numbers of fields, content, and size.\n",
    "Document Oriented: In MongoDB, all the data stored in the documents instead of tables like in RDBMS. In these documents, the data is stored in fields(key-value pair) instead of rows and columns which make the data much more flexible in comparison to RDBMS.\n",
    "Indexing: In MongoDB database, every field in the documents is indexed with primary and secondary indices this makes easier and takes less time to get or search data from the pool of the data.\n",
    "Scalability: MongoDB provides horizontal scalability with the help of sharding. Sharding means to distribute data on multiple servers, here a large amount of data is partitioned into data chunks using the shard key, and these data chunks are evenly distributed across shards that reside across many physical servers.\n",
    "Replication: MongoDB provides high availability and redundancy with the help of replication, it creates multiple copies of the data and sends these copies to a different server so that if one server fails, then the data is retrieved from another server.\n",
    "High Performance: The performance of MongoDB is very high and data persistence as compared to another database due to its features like scalability, indexing, replication, etc.\n"
   ]
  },
  {
   "cell_type": "markdown",
   "id": "de2c7ee2-33c4-461a-bfc2-1108ab11a2e8",
   "metadata": {},
   "source": [
    "Q3.\n",
    "import pymongo\n",
    "client =pymongo.MongoClient(\"mongodb+srv://Dilip1:<password>@dilip1.egbinz9.mongodb.net/?retryWrites=true&w=majority\")\n",
    "db= client.test\n",
    "#if pymongo not install then install first pymongo\n",
    "pip install pymongo\n",
    "#create data base\n",
    "db= client['pwskill']\n",
    "data={\"name\":\"dilip\",\n",
    "      \"class\": \"data science\",\n",
    "      \"time\":\"flexi\"\n",
    "}\n",
    "coll_pwskill = db[\"my_record\"]"
   ]
  },
  {
   "cell_type": "markdown",
   "id": "2bfe8559-eb1a-4892-b106-1f7d7c0d18e1",
   "metadata": {},
   "source": [
    "Q4.\n",
    "import pymongo\n",
    "client =pymongo.MongoClient(\"mongodb+srv://Dilip1:<password>@dilip1.egbinz9.mongodb.net/?retryWrites=true&w=majority\")\n",
    "\n",
    "db= client['pwskill']\n",
    "coll_pwskill = db[\"my_record\"]\n",
    "\n",
    "data={\"name\":\"dilip\",\n",
    "      \"class\": \"data science\",\n",
    "      \"time\":\"flexi\"\n",
    "}\n",
    "inserted_record_one = coll_pwskill.insert_one(data)\n",
    "print(\"Inserted record ID:\", inserted_record_one.inserted_id)\n",
    "\n",
    "records_many = [\n",
    "    {\"name\": \"Alice\", \"age\": 25, \"city\": \"Los Angeles\"},\n",
    "    {\"name\": \"Bob\", \"age\": 22, \"city\": \"Chicago\"},\n",
    "    {\"name\": \"Eve\", \"age\": 28, \"city\": \"San Francisco\"}\n",
    "]\n",
    "inserted_records_many = coll_pwskill.insert_many(records_many)\n",
    "print(\"Inserted record IDs:\", inserted_records_many.inserted_ids)\n",
    "\n",
    "found_record_one = coll_pwskill.find_one({\"name\": \"dilip\"})\n",
    "print(\"Found record one:\", found_record_one)\n",
    "\n",
    "all_records = coll_pwskill.find()\n",
    "print(\"All inserted records:\")\n",
    "for record in all_records:\n",
    "    print(record)\n"
   ]
  },
  {
   "cell_type": "markdown",
   "id": "5ea2f53f-8115-45cf-a479-352594da0709",
   "metadata": {},
   "source": [
    "Q5.\n",
    "the find() method in MongoDB is used to query a collection for documents that match a specified query criteria.this methods return a cursor, which you can iterate thought to access the documents that match the query.\n",
    "Connect to the MongoDB server: First, you need to establish a connection to the MongoDB server using the PyMongo library.\n",
    "Select a database and collection: Specify the database and collection you want to query.\n",
    "Create a query document: Define a query document that specifies the criteria for selecting documents from the collection. The query document is a dictionary where keys represent field names and values represent the desired values or conditions.\n",
    "Execute the query using find():\n",
    "Use the find() method on the collection and pass the query document as an argument. This will return a cursor to the documents that match the query.\n",
    "Iterate through the cursor: Iterate through the cursor to access each document that matches the query.\n",
    "\n",
    "import pymongo\n",
    "client =pymongo.MongoClient(\"mongodb+srv://Dilip1:<password>@dilip1.egbinz9.mongodb.net/?retryWrites=true&w=majority\")\n",
    "db = client[\"mydatabase\"]\n",
    "collection = db[\"mycollection\"]\n",
    "query = {\n",
    "    \"age\": {\"$gte\": 25}  \n",
    "cursor = collection.find(query)\n",
    "print(\"Documents matching the query:\")\n",
    "for document in cursor:\n",
    "    print(document)\n",
    "client.close()\n"
   ]
  },
  {
   "cell_type": "markdown",
   "id": "57def511-8d2e-4afd-9163-d6473ac5ef4f",
   "metadata": {},
   "source": [
    "Q6.\n",
    "The sort() method in MongoDB is used to sort the documents in a collection based on one or more fields. It allows you to specify the sorting order for each field, such as ascending or descending. Sorting is helpful when you want to retrieve documents from a collection in a specific order based on certain criteria.\n",
    "import pymongo\n",
    "\n",
    "client =pymongo.MongoClient(\"mongodb+srv://Dilip1:<password>@dilip1.egbinz9.mongodb.net/?retryWrites=true&w=majority\")\n",
    "\n",
    "db = client[\"mydatabase\"]\n",
    "collection = db[\"employees\"]\n",
    "query = {}\n",
    "\n",
    "sort_criteria = {\n",
    "    \"age\": -1\n",
    "}\n",
    "cursor = collection.find(query).sort(sort_criteria)\n",
    "\n",
    "print(\"Sorted documents (by age, descending):\")\n",
    "for document in cursor:\n",
    "    print(document)\n",
    "client.close()\n"
   ]
  },
  {
   "cell_type": "markdown",
   "id": "43aa2a09-7641-471f-a8fe-5ceed48610e1",
   "metadata": {},
   "source": [
    "Q7.\n",
    "delete_one(filter, collation=None, session=None):The delete_one() method is used to delete a single document from a collection that matches the specified filter criteria. If multiple documents match the filter, only the first document encountered will be deleted.\n",
    "result = collection.delete_one({\"name\": \"John\"})\n",
    "\n",
    "delete_many(filter, collation=None, session=None):\n",
    "The delete_many() method is used to delete multiple documents from a collection that match the specified filter criteria. All documents that match the filter will be deleted\n",
    "result = collection.delete_many({\"age\": {\"$gte\": 30}})\n",
    "\n",
    "drop(session=None):\n",
    "The drop() method is used to completely remove a collection from the database. This action is irreversible, and it removes both the documents within the collection and the collection itself.\n",
    "collection.drop()\n"
   ]
  }
 ],
 "metadata": {
  "kernelspec": {
   "display_name": "Python 3 (ipykernel)",
   "language": "python",
   "name": "python3"
  },
  "language_info": {
   "codemirror_mode": {
    "name": "ipython",
    "version": 3
   },
   "file_extension": ".py",
   "mimetype": "text/x-python",
   "name": "python",
   "nbconvert_exporter": "python",
   "pygments_lexer": "ipython3",
   "version": "3.10.8"
  }
 },
 "nbformat": 4,
 "nbformat_minor": 5
}
